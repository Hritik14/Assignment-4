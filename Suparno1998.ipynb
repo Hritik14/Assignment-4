{
  "nbformat": 4,
  "nbformat_minor": 0,
  "metadata": {
    "colab": {
      "name": "First_Date_with_TensorFlow.ipynb",
      "version": "0.3.2",
      "provenance": []
    },
    "kernelspec": {
      "name": "python3",
      "display_name": "Python 3"
    }
  },
  "cells": [
    {
      "metadata": {
        "id": "2XXfXed5YLbe",
        "colab_type": "text"
      },
      "cell_type": "markdown",
      "source": [
        "# First Date with TensorFlow\n",
        "\n",
        "Hi all,<br/>\n",
        "\n",
        "You know what's important for understanding Deep Learning / Machine Learning?<br/>\n",
        "Intuition. Period.\n",
        "\n",
        "And Intuition comes when you run the code multiple times.\n",
        "\n",
        "So, today I can write a couple of defination and say this is this, this is that.<br/>\n",
        "You Google half of the things up. You find answers which you need to Google further.<br/>\n",
        "In the process, you probably won't even remember what's the first thing you started out with!\n",
        "\n",
        "So?\n",
        "\n",
        "Hence on, I will execute cells with code. <br/>\n",
        "The neurons in your brain will optimize a function to get a hold of what each function is doing.<br/>\n",
        "**No Theory Just Code.**\n",
        "\n",
        "I will at max give a defination that extends for a line. That's it.<br/>\n",
        "Let's get started!\n",
        "\n",
        "<hr/>\n",
        "\n",
        "**RECOMMENDED!**<br/>\n",
        "Write the code in the cells using the signals sent by your brain to your fingers!<br/>\n",
        "Don't just `shift+enter` the cells.\n",
        "\n",
        "[Source](https://github.com/iArunava/TensorFlow-NoteBooks)"
      ]
    },
    {
      "metadata": {
        "id": "gYWUpE-bYKWP",
        "colab_type": "code",
        "colab": {}
      },
      "cell_type": "code",
      "source": [
        "# Essential imports\n",
        "import numpy as np\n",
        "import tensorflow as tf\n",
        "import matplotlib.pyplot as plt"
      ],
      "execution_count": 0,
      "outputs": []
    },
    {
      "metadata": {
        "id": "eKpz5NCIYMdi",
        "colab_type": "code",
        "colab": {}
      },
      "cell_type": "code",
      "source": [
        "# Let's define some tensors\n",
        "t1 = tf.constant(2.0, dtype=tf.float32)\n",
        "t2 = tf.constant([1.0, 2.0], dtype=tf.float32)\n",
        "t3 = tf.constant([[[1.0, 9.0], [2.0, 3.0], [4.0, 5.0]], \n",
        "                  [[1.0, 9.0], [2.0, 3.0], [4.0, 5.0]]])"
      ],
      "execution_count": 0,
      "outputs": []
    },
    {
      "metadata": {
        "id": "vmMcjzTxbWzw",
        "colab_type": "code",
        "colab": {
          "base_uri": "https://localhost:8080/",
          "height": 68
        },
        "outputId": "e1e2a5db-f46f-4542-e039-cbeb607338aa"
      },
      "cell_type": "code",
      "source": [
        "# Let's print them out!\n",
        "print (t1)\n",
        "print (t2)\n",
        "print (t3)"
      ],
      "execution_count": 4,
      "outputs": [
        {
          "output_type": "stream",
          "text": [
            "Tensor(\"Const:0\", shape=(), dtype=float32)\n",
            "Tensor(\"Const_1:0\", shape=(2,), dtype=float32)\n",
            "Tensor(\"Const_2:0\", shape=(2, 3, 2), dtype=float32)\n"
          ],
          "name": "stdout"
        }
      ]
    },
    {
      "metadata": {
        "id": "10ahnfjYbcop",
        "colab_type": "text"
      },
      "cell_type": "markdown",
      "source": [
        "Where's Waldo?<br/>\n",
        "I mean, the value?<br/>\n",
        "\n",
        "So, the thing is you can't print the value of tensors directly.<br/>\n",
        "You have to use `session`, so let's do that!"
      ]
    },
    {
      "metadata": {
        "id": "ol6O5I7Tb2nb",
        "colab_type": "code",
        "colab": {
          "base_uri": "https://localhost:8080/",
          "height": 204
        },
        "outputId": "72978e75-988b-4b1c-d4a4-27cfdfa7e486"
      },
      "cell_type": "code",
      "source": [
        "sess = tf.Session()\n",
        "print (sess.run(t1))\n",
        "print (\"=======================\")\n",
        "print (sess.run(t2))\n",
        "print (\"=======================\")\n",
        "print (sess.run(t3))\n",
        "sess.close()"
      ],
      "execution_count": 5,
      "outputs": [
        {
          "output_type": "stream",
          "text": [
            "2.0\n",
            "=======================\n",
            "[1. 2.]\n",
            "=======================\n",
            "[[[1. 9.]\n",
            "  [2. 3.]\n",
            "  [4. 5.]]\n",
            "\n",
            " [[1. 9.]\n",
            "  [2. 3.]\n",
            "  [4. 5.]]]\n"
          ],
          "name": "stdout"
        }
      ]
    },
    {
      "metadata": {
        "id": "rXKfVs_zb-kU",
        "colab_type": "text"
      },
      "cell_type": "markdown",
      "source": [
        "Aaahaa!! Just printed those tensors!!!<br/>\n",
        "Feels good! <br/>\n",
        "\n",
        "For some of you, who are like, dude you got \"No Theory Just Code\" in bold <br/>\n",
        "And you are still using the markdown cells for the theory ?!\n",
        "\n",
        "I am just gonna say I am a unreasonable man.<br/>\n",
        "\n",
        "\n",
        "So, you are programming with tf.<br/>\n",
        "What ever you do is broken down to 2 basic steps:\n",
        "- Building the computational Graph!\n",
        "- Execute that graph using `session`!\n",
        "\n",
        "That's all!\n",
        "\n",
        "<hr/>\n",
        "\n",
        "Let's compare this 2 steps with what we did above!<br/>\n",
        "So, I defined 3 `tensor`s and these 3 `tensor`s formed my computational Graph.<br/>\n",
        "And then I executed each tensor in this graph using a `session`.\n",
        "\n",
        "That simple!\n",
        "\n",
        "<hr/>\n",
        "\n",
        "Now, let's define a few more computational graphs and execute them with sessions.\n",
        "\n",
        "Okay, to start with let's build this computational graph!\n",
        "\n",
        "![Comp Graph 1](https://raw.githubusercontent.com/iArunava/TensorFlow-NoteBooks/master/assets/comp_graph_1.jpg)"
      ]
    },
    {
      "metadata": {
        "id": "FyVz0GNqgreZ",
        "colab_type": "code",
        "colab": {
          "base_uri": "https://localhost:8080/",
          "height": 51
        },
        "outputId": "358ce8ff-1663-425b-b1dc-6b335ae5a637"
      },
      "cell_type": "code",
      "source": [
        "# Let's define the graph\n",
        "comp_graph_1 = tf.multiply(tf.add(78, 19), 79)\n",
        "\n",
        "# Alternatively\n",
        "comp_graph_1_alt = (tf.constant(78) + tf.constant(19)) * tf.constant(79)\n",
        "\n",
        "# Let's execute using session\n",
        "sess = tf.Session()\n",
        "print ('Comp Graph 1    : ', sess.run(comp_graph_1))\n",
        "print ('Comp Graph 1 Alt: ', sess.run(comp_graph_1_alt))\n",
        "sess.close()"
      ],
      "execution_count": 6,
      "outputs": [
        {
          "output_type": "stream",
          "text": [
            "Comp Graph 1    :  7663\n",
            "Comp Graph 1 Alt:  7663\n"
          ],
          "name": "stdout"
        }
      ]
    },
    {
      "metadata": {
        "id": "SVMMtuFYhaQB",
        "colab_type": "text"
      },
      "cell_type": "markdown",
      "source": [
        "Let's define a sligtly more involved graph!\n",
        "\n",
        "![alt text](https://raw.githubusercontent.com/iArunava/TensorFlow-NoteBooks/master/assets/comp_graph_2.jpg)"
      ]
    },
    {
      "metadata": {
        "id": "4856BTvRhiBb",
        "colab_type": "code",
        "colab": {
          "base_uri": "https://localhost:8080/",
          "height": 68
        },
        "outputId": "71fa9689-ace5-4b6b-fd01-f4045c82bc14"
      },
      "cell_type": "code",
      "source": [
        "# Let build the graph\n",
        "# We need to cast cause the tensors operated on should be of the same type\n",
        "comp_graph_part_1 = tf.cast(tf.subtract(tf.add(7, 8), tf.add(9, 10)), \n",
        "                            dtype=tf.float32)\n",
        "comp_graph_part_2 = tf.divide(tf.cast(tf.multiply(7, 10), dtype=tf.float32), tf.constant(19.5))\n",
        "comp_graph_complete = tf.maximum(comp_graph_part_1, comp_graph_part_2)\n",
        "\n",
        "# Let's execute\n",
        "sess = tf.Session()\n",
        "part1_res, part2_res, total_res = sess.run([comp_graph_part_1, comp_graph_part_2, comp_graph_complete])\n",
        "print ('Complete Result: ', total_res)\n",
        "print ('Part 1 Result: ', part1_res)\n",
        "print ('Part 2 Result: ', part2_res)\n",
        "sess.close()"
      ],
      "execution_count": 7,
      "outputs": [
        {
          "output_type": "stream",
          "text": [
            "Complete Result:  3.5897436\n",
            "Part 1 Result:  -4.0\n",
            "Part 2 Result:  3.5897436\n"
          ],
          "name": "stdout"
        }
      ]
    },
    {
      "metadata": {
        "id": "B-_ZDtEbj4N0",
        "colab_type": "text"
      },
      "cell_type": "markdown",
      "source": [
        "Cool! Let's go! Build another graph and execute it with sessions.<br/>\n",
        "\n",
        "But this time, it's all you!\n",
        "\n",
        "Build this graph and execute it with `session`!\n",
        "\n",
        "![alt text](https://raw.githubusercontent.com/iArunava/TensorFlow-NoteBooks/master/assets/comp_graph_3.jpg)\n",
        "\n",
        "_Remember that `tensors` operated on should be of the same type!_<br/>\n",
        "_Search up errors and other help you need on Google_"
      ]
    },
    {
      "metadata": {
        "id": "-uHNe1BolJY0",
        "colab_type": "code",
        "colab": {
          "base_uri": "https://localhost:8080/",
          "height": 68
        },
        "outputId": "bf0e2cea-d56c-4d38-e197-b25df074a523"
      },
      "cell_type": "code",
      "source": [
        "# Build the graph\n",
        "v1 = tf.constant([9,10],dtype=tf.float32)\n",
        "v2 = tf.constant([7,8.65])\n",
        "v3 = tf.constant(5.6)\n",
        "v4 = tf.constant([7.65,9])\n",
        "v5 = tf.constant([13.5,7.19])\n",
        "\n",
        "left = tf.divide(tf.multiply(v1,v2),v3)\n",
        "right = tf.cast(tf.add(v4,v5),dtype=tf.float32)\n",
        "final = tf.minimum(left,right) \n",
        "\n",
        "# Execute \n",
        "s = tf.Session()\n",
        "l,r,f = s.run([left,right,final])\n",
        "print(\"Left : \",l)\n",
        "print(\"Right : \",r)\n",
        "print(\"Final Value : \",f)"
      ],
      "execution_count": 8,
      "outputs": [
        {
          "output_type": "stream",
          "text": [
            "Left :  [11.25     15.446429]\n",
            "Right :  [21.15 16.19]\n",
            "Final Value :  [11.25     15.446429]\n"
          ],
          "name": "stdout"
        }
      ]
    },
    {
      "metadata": {
        "id": "qmap38WelREN",
        "colab_type": "text"
      },
      "cell_type": "markdown",
      "source": [
        "Let's do another!<br/>\n",
        "It's fun! Isn't it?!\n",
        "\n",
        "Build and execute this one!\n",
        "\n",
        "![alt text](https://raw.githubusercontent.com/iArunava/TensorFlow-NoteBooks/master/assets/comp_graph_4.jpg)"
      ]
    },
    {
      "metadata": {
        "id": "0ZhYwAlLmEvB",
        "colab_type": "code",
        "colab": {
          "base_uri": "https://localhost:8080/",
          "height": 102
        },
        "outputId": "68fabf6a-0b06-4553-ead7-f7af4b0478f1"
      },
      "cell_type": "code",
      "source": [
        "# Build the graph\n",
        "# YOUR CODE HERE\n",
        "v1 = tf.constant([[1.2,3.4],[7.5,8.6]])\n",
        "v2 = tf.constant([[7,9],[8,6]],dtype=tf.float32)\n",
        "v3 = tf.constant([[2.79,3.81,5.6],[7.3,5.67,8.9]])\n",
        "v4 = tf.constant([[2.6,18.1],[7.86,9.31],[9.36,10.41]])\n",
        "\n",
        "part1 = tf.multiply(tf.reduce_mean(v1,axis=1),v2)\n",
        "part2 = tf.reduce_sum(tf.multiply(tf.transpose(v4),v3))\n",
        "final = tf.add(part1,part2)\n",
        "# Execute \n",
        "# YOUR CODE HERE\n",
        "s = tf.Session()\n",
        "l,r,f = s.run([part1,part2,final])\n",
        "print(\"Left : \",l)\n",
        "print(\"Right : \",r)\n",
        "print(\"Final Value : \",f)"
      ],
      "execution_count": 9,
      "outputs": [
        {
          "output_type": "stream",
          "text": [
            "Left :  [[16.100002 72.450005]\n",
            " [18.400002 48.300003]]\n",
            "Right :  367.1833\n",
            "Final Value :  [[383.2833  439.6333 ]\n",
            " [385.58328 415.48328]]\n"
          ],
          "name": "stdout"
        }
      ]
    },
    {
      "metadata": {
        "id": "BnB0b6qCmGmg",
        "colab_type": "text"
      },
      "cell_type": "markdown",
      "source": [
        "And a final one, before we move on to the next part!\n",
        "\n",
        "![alt text](https://raw.githubusercontent.com/iArunava/TensorFlow-NoteBooks/master/assets/comp_graph_5.jpg)"
      ]
    },
    {
      "metadata": {
        "id": "GQWyCvsQmMcL",
        "colab_type": "code",
        "colab": {
          "base_uri": "https://localhost:8080/",
          "height": 136
        },
        "outputId": "c8346b60-8d8b-424d-a6fe-08ff3f91d3a3"
      },
      "cell_type": "code",
      "source": [
        "# Build the graph\n",
        "# YOUR CODE HERE\n",
        "v1 = tf.constant(7,dtype=tf.float32)\n",
        "v2 = tf.constant([[7.36,8.91,10.41],[5.31,9.38,7.99]])\n",
        "v3 = tf.constant([[7.99,10.36],[5.36,7.98],[8.91,5.67]])\n",
        "v4 = tf.constant(19.6)\n",
        "v5 = tf.constant([[1,5.6,6.1,8],[0,0,7.98,9],[0,0,7.6,7],[0,0,0,8.98]])\n",
        "part = tf.divide(tf.add(tf.reduce_sum(tf.multiply(tf.transpose(v3),v2)),v1),v4)\n",
        "final = tf.divide(part,v5)\n",
        "\n",
        "# Execute \n",
        "# YOUR CODE HERE\n",
        "s = tf.Session()\n",
        "p,f = s.run([part,final])\n",
        "print(\"Part : \",p,\"\\n\")\n",
        "print(\"Final Value : \\n\",f)"
      ],
      "execution_count": 10,
      "outputs": [
        {
          "output_type": "stream",
          "text": [
            "Part :  19.463488 \n",
            "\n",
            "Final Value : \n",
            " [[19.463488   3.475623   3.1907358  2.432936 ]\n",
            " [       inf        inf  2.4390335  2.1626098]\n",
            " [       inf        inf  2.5609853  2.7804983]\n",
            " [       inf        inf        inf  2.1674263]]\n"
          ],
          "name": "stdout"
        }
      ]
    },
    {
      "metadata": {
        "id": "12NC7XTPsJw7",
        "colab_type": "text"
      },
      "cell_type": "markdown",
      "source": [
        "# Linear Regression\n",
        "\n",
        "Okay, now we will create a dummy dataset and perform linear regression on this dataset!\n",
        "\n",
        "\n",
        "To get you in the habit of looking up for the documentation, I am not providing what some of the following functions does, Google them up!"
      ]
    },
    {
      "metadata": {
        "id": "hW31RZkjtNwI",
        "colab_type": "code",
        "colab": {}
      },
      "cell_type": "code",
      "source": [
        "# Create the dataset\n",
        "X = np.linspace(-30.0, 300.0, 300)\n",
        "Y = 2 * np.linspace(-30.0, 250.0, 300) + np.random.randn(*X.shape)\n",
        "\n",
        "# Divide it into train and test\n",
        "train_X = X[:250]\n",
        "train_Y = Y[:250]\n",
        "\n",
        "test_X = X[250:]\n",
        "test_Y = Y[250:]"
      ],
      "execution_count": 0,
      "outputs": []
    },
    {
      "metadata": {
        "id": "LQKy6U33y4lt",
        "colab_type": "code",
        "colab": {}
      },
      "cell_type": "code",
      "source": [
        "# Let's define the hyperparameters\n",
        "learning_rate = 0.000005\n",
        "n_epochs = 1000\n",
        "interval = 50"
      ],
      "execution_count": 0,
      "outputs": []
    },
    {
      "metadata": {
        "id": "1h1-D8K1uT48",
        "colab_type": "code",
        "colab": {
          "base_uri": "https://localhost:8080/",
          "height": 347
        },
        "outputId": "96d856b2-7f42-4627-f98c-6c0683175980"
      },
      "cell_type": "code",
      "source": [
        "# let's viz the first 10 datapoints of the dataset\n",
        "plt.plot(train_X[:10], train_Y[:10], 'g')\n",
        "plt.show()"
      ],
      "execution_count": 13,
      "outputs": [
        {
          "output_type": "display_data",
          "data": {
            "image/png": "[encoded data removed]",
            "text/plain": [
              "<matplotlib.figure.Figure at 0x7f6502171be0>"
            ]
          },
          "metadata": {
            "tags": []
          }
        }
      ]
    },
    {
      "metadata": {
        "id": "jrsUps0nu8vj",
        "colab_type": "text"
      },
      "cell_type": "markdown",
      "source": [
        "** Question **<br/>\n",
        "Why did I created a session to plot the graph?<br/>\n",
        "[Ans]"
      ]
    },
    {
      "metadata": {
        "id": "P3-iuxE4sjAf",
        "colab_type": "code",
        "colab": {}
      },
      "cell_type": "code",
      "source": [
        "# Let's define the placeholders\n",
        "\n",
        "# Placeholders?\n",
        "# The input to the model changes on iteration\n",
        "# So we cannot have a constant in the input as we did before\n",
        "# And thus we need placeholders which we can change on each \n",
        "# iteration of the training\n",
        "\n",
        "x = tf.placeholder(tf.float32, name='x')\n",
        "y = tf.placeholder(tf.float32, name='y')"
      ],
      "execution_count": 0,
      "outputs": []
    },
    {
      "metadata": {
        "id": "8hPRkaoxvRyV",
        "colab_type": "code",
        "colab": {}
      },
      "cell_type": "code",
      "source": [
        "# Let's define the linear regression model\n",
        "\n",
        "# tf.Variable?\n",
        "# We define the model parameters as tf.Variables\n",
        "# as they get updated throghout the training.\n",
        "# And variables denotes something which changes overtime.\n",
        "\n",
        "W = tf.Variable(0.0, name='weight_1')\n",
        "b = tf.Variable(0.0, name='bias_1')\n",
        "\n",
        "pred_y = (W*x) + b"
      ],
      "execution_count": 0,
      "outputs": []
    },
    {
      "metadata": {
        "id": "cSw1P8bkv96r",
        "colab_type": "code",
        "colab": {}
      },
      "cell_type": "code",
      "source": [
        "# Let's define the loss function\n",
        "# We are going to use the mean squared loss\n",
        "loss = tf.reduce_mean(tf.square(y - pred_y))"
      ],
      "execution_count": 0,
      "outputs": []
    },
    {
      "metadata": {
        "id": "5G4uQqjsygNj",
        "colab_type": "code",
        "colab": {}
      },
      "cell_type": "code",
      "source": [
        "# Let's define the optimizer\n",
        "# And specify the which value (i.e. loss) it has to minimize\n",
        "optimizer = tf.train.GradientDescentOptimizer(learning_rate=learning_rate).minimize(loss)"
      ],
      "execution_count": 0,
      "outputs": []
    },
    {
      "metadata": {
        "id": "ttI7ZT-ozAm1",
        "colab_type": "code",
        "colab": {
          "base_uri": "https://localhost:8080/",
          "height": 721
        },
        "outputId": "43ffb4ee-8eb7-49dc-9561-54c70f82e1ad"
      },
      "cell_type": "code",
      "source": [
        "# So the graph is now built\n",
        "# Now let's execute the graph using session\n",
        "# i.e. lets train the model\n",
        "\n",
        "# What it is to train a model?\n",
        "# To update the paramters in the graph (i.e. tf.Variables)\n",
        "# So that the loss is minimized\n",
        "\n",
        "# Okay let's start!\n",
        "with tf.Session() as sess:\n",
        "  # We need to initialize the variables in our graph\n",
        "  sess.run(tf.global_variables_initializer())\n",
        "  \n",
        "  for epoch in range(n_epochs):\n",
        "    _, curr_loss = sess.run([optimizer, loss], feed_dict={x:train_X, y:train_Y})\n",
        "    \n",
        "    if epoch % interval == 0:\n",
        "      print ('Loss after epoch', epoch, ' is ', curr_loss)\n",
        "    \n",
        "  print ('Now testing the model in the test set')\n",
        "  final_preds, final_loss = sess.run([pred_y, loss], feed_dict={x:test_X, y:test_Y})\n",
        "    \n",
        "  print ('The final loss is: ', final_loss)\n",
        "  \n",
        "  # Plotting the final predictions against the true predictions\n",
        "  print ('The final loss is: ', final_loss)\n",
        "  \n",
        "  plt.plot(test_X[:10], test_Y[:10], 'g', label='True Function')\n",
        "  plt.plot(test_X[:10], final_preds[:10], 'r', label='Predicted Function')\n",
        "  plt.legend()\n",
        "  plt.show()"
      ],
      "execution_count": 18,
      "outputs": [
        {
          "output_type": "stream",
          "text": [
            "Loss after epoch 0  is  48309.363\n",
            "Loss after epoch 50  is  30.73364\n",
            "Loss after epoch 100  is  30.722918\n",
            "Loss after epoch 150  is  30.712332\n",
            "Loss after epoch 200  is  30.701797\n",
            "Loss after epoch 250  is  30.691216\n",
            "Loss after epoch 300  is  30.68066\n",
            "Loss after epoch 350  is  30.670076\n",
            "Loss after epoch 400  is  30.659575\n",
            "Loss after epoch 450  is  30.649004\n",
            "Loss after epoch 500  is  30.63846\n",
            "Loss after epoch 550  is  30.62792\n",
            "Loss after epoch 600  is  30.61736\n",
            "Loss after epoch 650  is  30.606867\n",
            "Loss after epoch 700  is  30.596342\n",
            "Loss after epoch 750  is  30.585783\n",
            "Loss after epoch 800  is  30.575287\n",
            "Loss after epoch 850  is  30.564753\n",
            "Loss after epoch 900  is  30.554218\n",
            "Loss after epoch 950  is  30.543705\n",
            "Now testing the model in the test set\n",
            "The final loss is:  32.80159\n"
          ],
          "name": "stdout"
        },
        {
          "output_type": "display_data",
          "data": {
            "image/png": "[encoded data removed]",
            "text/plain": [
              "<matplotlib.figure.Figure at 0x7f650192c400>"
            ]
          },
          "metadata": {
            "tags": []
          }
        }
      ]
    },
    {
      "metadata": {
        "id": "jgmH3wwt1src",
        "colab_type": "text"
      },
      "cell_type": "markdown",
      "source": [
        "Okay, so we are doing good!<br/>\n",
        "\n",
        "Now, let me just put everything here into one function so that you can tweak the hyperparameters easily!\n",
        "\n",
        "Or better, do it yourself!"
      ]
    },
    {
      "metadata": {
        "id": "OZ5TY7B_4E_v",
        "colab_type": "code",
        "colab": {}
      },
      "cell_type": "code",
      "source": [
        "def linear_regression(learning_rate=0.000005, n_epochs=100, interval=50):\n",
        "  weight = tf.Variable(0.0,name=\"w\")\n",
        "  bias = tf.Variable(0.0,name=\"b\")\n",
        "  prediction = (weight*x) + bias\n",
        "  loss = tf.reduce_mean(tf.square(y - prediction))\n",
        "  optimizer = tf.train.GradientDescentOptimizer(learning_rate=learning_rate).minimize(loss)\n",
        "  with tf.Session() as s:\n",
        "    s.run(tf.global_variables_initializer())\n",
        "    for epoch in range(n_epochs):\n",
        "      _,c = s.run([optimizer,loss],feed_dict = {x:train_X,y:train_Y})\n",
        "      if epoch % interval == 0 :\n",
        "        print ('Loss for epoch no : ', epoch, ' is ', c)\n",
        "    print ('Now testing the model in the test set')\n",
        "    final_prediction, final_loss = s.run([prediction, loss], feed_dict={x:test_X, y:test_Y})\n",
        "    print ('The final loss is: ', final_loss)\n",
        "    plt.plot(test_X[:10], test_Y[:10], 'g', label='True Function')\n",
        "    plt.plot(test_X[:10], final_prediction[:10], 'r', label='Predicted Function')\n",
        "    plt.legend()\n",
        "    plt.show()\n",
        "  pass"
      ],
      "execution_count": 0,
      "outputs": []
    },
    {
      "metadata": {
        "id": "A6MaclhK4rc6",
        "colab_type": "code",
        "colab": {
          "base_uri": "https://localhost:8080/",
          "height": 551
        },
        "outputId": "04fc0487-23ef-4a44-fcde-920a6dbc6fb4"
      },
      "cell_type": "code",
      "source": [
        "# Okay! Now let's tweak!\n",
        "linear_regression(learning_rate=0.000034, n_epochs=500)"
      ],
      "execution_count": 21,
      "outputs": [
        {
          "output_type": "stream",
          "text": [
            "Loss for epoch no :  0  is  48309.363\n",
            "Loss for epoch no :  50  is  30.672235\n",
            "Loss for epoch no :  100  is  30.600506\n",
            "Loss for epoch no :  150  is  30.529015\n",
            "Loss for epoch no :  200  is  30.45769\n",
            "Loss for epoch no :  250  is  30.386513\n",
            "Loss for epoch no :  300  is  30.315512\n",
            "Loss for epoch no :  350  is  30.2447\n",
            "Loss for epoch no :  400  is  30.174042\n",
            "Loss for epoch no :  450  is  30.103516\n",
            "Now testing the model in the test set\n",
            "The final loss is:  32.239914\n"
          ],
          "name": "stdout"
        },
        {
          "output_type": "display_data",
          "data": {
            "image/png": "[encoded data removed]",
            "text/plain": [
              "<matplotlib.figure.Figure at 0x7f64fc6d5208>"
            ]
          },
          "metadata": {
            "tags": []
          }
        }
      ]
    },
    {
      "metadata": {
        "id": "peoHmV2M40uU",
        "colab_type": "code",
        "colab": {
          "base_uri": "https://localhost:8080/",
          "height": 721
        },
        "outputId": "f2183eb0-3b8a-4cf4-cb83-aad9b52570dc"
      },
      "cell_type": "code",
      "source": [
        "linear_regression(learning_rate=0.0000006, n_epochs=1000)"
      ],
      "execution_count": 22,
      "outputs": [
        {
          "output_type": "stream",
          "text": [
            "Loss for epoch no :  0  is  48309.363\n",
            "Loss for epoch no :  50  is  5547.954\n",
            "Loss for epoch no :  100  is  661.24097\n",
            "Loss for epoch no :  150  is  102.792694\n",
            "Loss for epoch no :  200  is  38.97284\n",
            "Loss for epoch no :  250  is  31.67868\n",
            "Loss for epoch no :  300  is  30.843985\n",
            "Loss for epoch no :  350  is  30.74746\n",
            "Loss for epoch no :  400  is  30.735329\n",
            "Loss for epoch no :  450  is  30.73281\n",
            "Loss for epoch no :  500  is  30.731422\n",
            "Loss for epoch no :  550  is  30.73011\n",
            "Loss for epoch no :  600  is  30.728832\n",
            "Loss for epoch no :  650  is  30.727592\n",
            "Loss for epoch no :  700  is  30.726313\n",
            "Loss for epoch no :  750  is  30.725018\n",
            "Loss for epoch no :  800  is  30.723774\n",
            "Loss for epoch no :  850  is  30.722483\n",
            "Loss for epoch no :  900  is  30.721252\n",
            "Loss for epoch no :  950  is  30.719973\n",
            "Now testing the model in the test set\n",
            "The final loss is:  33.015022\n"
          ],
          "name": "stdout"
        },
        {
          "output_type": "display_data",
          "data": {
            "image/png": "[encoded data removed]",
            "text/plain": [
              "<matplotlib.figure.Figure at 0x7f64fc544ba8>"
            ]
          },
          "metadata": {
            "tags": []
          }
        }
      ]
    },
    {
      "metadata": {
        "id": "KjY_KnlE5ClG",
        "colab_type": "text"
      },
      "cell_type": "markdown",
      "source": [
        "## Drive the loss to a minimum."
      ]
    },
    {
      "metadata": {
        "id": "JKiHjGN15HPX",
        "colab_type": "code",
        "colab": {
          "base_uri": "https://localhost:8080/",
          "height": 2081
        },
        "outputId": "555feee0-084a-428e-f78d-8fb1c8ff68ba"
      },
      "cell_type": "code",
      "source": [
        "# YOUR CODE HERE\n",
        "def linear_regression_v1(learning_rate=0.000005, n_epochs=100, interval=50):\n",
        "    weight = tf.Variable((np.max(train_X)-np.min(train_X))/len(train_X),name=\"w\",dtype=tf.float32)\n",
        "    bias = tf.Variable(0.00001,name=\"b\",dtype=tf.float32) #modification 1\n",
        "    prediction = (weight*x) + bias\n",
        "    loss = tf.reduce_mean(tf.square(y - prediction))\n",
        "    optimizer = tf.train.GradientDescentOptimizer(learning_rate=learning_rate).minimize(loss)\n",
        "    with tf.Session() as s:\n",
        "        s.run(tf.global_variables_initializer())\n",
        "        for epoch in range(n_epochs):\n",
        "            _,c = s.run([optimizer,loss],feed_dict = {x:train_X,y:train_Y})\n",
        "            if epoch % interval == 0 :\n",
        "                print ('Loss for epoch no : ', epoch, ' is ', c)\n",
        "        print ('Now testing the model in the test set')\n",
        "        final_prediction, final_loss = s.run([prediction, loss], feed_dict={x:test_X, y:test_Y})\n",
        "        print ('The final loss is: ', final_loss)\n",
        "        plt.plot(test_X[:10], test_Y[:10], 'g', label='True Function')\n",
        "        plt.plot(test_X[:10], final_prediction[:10], 'r', label='Predicted Function')\n",
        "        plt.legend()\n",
        "        plt.show()\n",
        "linear_regression_v1(learning_rate=0.000005,interval = 100, n_epochs=10000)"
      ],
      "execution_count": 38,
      "outputs": [
        {
          "output_type": "stream",
          "text": [
            "Loss for epoch no :  0  is  5320.61\n",
            "Loss for epoch no :  100  is  30.68008\n",
            "Loss for epoch no :  200  is  30.658993\n",
            "Loss for epoch no :  300  is  30.637873\n",
            "Loss for epoch no :  400  is  30.616783\n",
            "Loss for epoch no :  500  is  30.595757\n",
            "Loss for epoch no :  600  is  30.574682\n",
            "Loss for epoch no :  700  is  30.553656\n",
            "Loss for epoch no :  800  is  30.532618\n",
            "Loss for epoch no :  900  is  30.511652\n",
            "Loss for epoch no :  1000  is  30.490646\n",
            "Loss for epoch no :  1100  is  30.469667\n",
            "Loss for epoch no :  1200  is  30.44871\n",
            "Loss for epoch no :  1300  is  30.427776\n",
            "Loss for epoch no :  1400  is  30.406843\n",
            "Loss for epoch no :  1500  is  30.385923\n",
            "Loss for epoch no :  1600  is  30.365026\n",
            "Loss for epoch no :  1700  is  30.344147\n",
            "Loss for epoch no :  1800  is  30.323288\n",
            "Loss for epoch no :  1900  is  30.302395\n",
            "Loss for epoch no :  2000  is  30.281582\n",
            "Loss for epoch no :  2100  is  30.260752\n",
            "Loss for epoch no :  2200  is  30.23996\n",
            "Loss for epoch no :  2300  is  30.219126\n",
            "Loss for epoch no :  2400  is  30.198355\n",
            "Loss for epoch no :  2500  is  30.177626\n",
            "Loss for epoch no :  2600  is  30.15685\n",
            "Loss for epoch no :  2700  is  30.136137\n",
            "Loss for epoch no :  2800  is  30.115398\n",
            "Loss for epoch no :  2900  is  30.094662\n",
            "Loss for epoch no :  3000  is  30.07399\n",
            "Loss for epoch no :  3100  is  30.053293\n",
            "Loss for epoch no :  3200  is  30.032673\n",
            "Loss for epoch no :  3300  is  30.012007\n",
            "Loss for epoch no :  3400  is  29.991377\n",
            "Loss for epoch no :  3500  is  29.970728\n",
            "Loss for epoch no :  3600  is  29.950165\n",
            "Loss for epoch no :  3700  is  29.929567\n",
            "Loss for epoch no :  3800  is  29.908998\n",
            "Loss for epoch no :  3900  is  29.888426\n",
            "Loss for epoch no :  4000  is  29.867874\n",
            "Loss for epoch no :  4100  is  29.84734\n",
            "Loss for epoch no :  4200  is  29.826826\n",
            "Loss for epoch no :  4300  is  29.80634\n",
            "Loss for epoch no :  4400  is  29.785862\n",
            "Loss for epoch no :  4500  is  29.765335\n",
            "Loss for epoch no :  4600  is  29.7449\n",
            "Loss for epoch no :  4700  is  29.724453\n",
            "Loss for epoch no :  4800  is  29.70404\n",
            "Loss for epoch no :  4900  is  29.683586\n",
            "Loss for epoch no :  5000  is  29.663218\n",
            "Loss for epoch no :  5100  is  29.642841\n",
            "Loss for epoch no :  5200  is  29.62245\n",
            "Loss for epoch no :  5300  is  29.602097\n",
            "Loss for epoch no :  5400  is  29.581732\n",
            "Loss for epoch no :  5500  is  29.56144\n",
            "Loss for epoch no :  5600  is  29.54111\n",
            "Loss for epoch no :  5700  is  29.520824\n",
            "Loss for epoch no :  5800  is  29.500519\n",
            "Loss for epoch no :  5900  is  29.480247\n",
            "Loss for epoch no :  6000  is  29.460012\n",
            "Loss for epoch no :  6100  is  29.439758\n",
            "Loss for epoch no :  6200  is  29.419521\n",
            "Loss for epoch no :  6300  is  29.39931\n",
            "Loss for epoch no :  6400  is  29.379095\n",
            "Loss for epoch no :  6500  is  29.358902\n",
            "Loss for epoch no :  6600  is  29.33873\n",
            "Loss for epoch no :  6700  is  29.318584\n",
            "Loss for epoch no :  6800  is  29.298433\n",
            "Loss for epoch no :  6900  is  29.27831\n",
            "Loss for epoch no :  7000  is  29.2582\n",
            "Loss for epoch no :  7100  is  29.238117\n",
            "Loss for epoch no :  7200  is  29.218037\n",
            "Loss for epoch no :  7300  is  29.197964\n",
            "Loss for epoch no :  7400  is  29.177929\n",
            "Loss for epoch no :  7500  is  29.157845\n",
            "Loss for epoch no :  7600  is  29.137836\n",
            "Loss for epoch no :  7700  is  29.11784\n",
            "Loss for epoch no :  7800  is  29.097807\n",
            "Loss for epoch no :  7900  is  29.07783\n",
            "Loss for epoch no :  8000  is  29.05785\n",
            "Loss for epoch no :  8100  is  29.03791\n",
            "Loss for epoch no :  8200  is  29.017942\n",
            "Loss for epoch no :  8300  is  28.998047\n",
            "Loss for epoch no :  8400  is  28.978125\n",
            "Loss for epoch no :  8500  is  28.958248\n",
            "Loss for epoch no :  8600  is  28.938334\n",
            "Loss for epoch no :  8700  is  28.918463\n",
            "Loss for epoch no :  8800  is  28.898592\n",
            "Loss for epoch no :  8900  is  28.87878\n",
            "Loss for epoch no :  9000  is  28.85893\n",
            "Loss for epoch no :  9100  is  28.839119\n",
            "Loss for epoch no :  9200  is  28.819319\n",
            "Loss for epoch no :  9300  is  28.799532\n",
            "Loss for epoch no :  9400  is  28.77976\n",
            "Loss for epoch no :  9500  is  28.759993\n",
            "Loss for epoch no :  9600  is  28.740253\n",
            "Loss for epoch no :  9700  is  28.720522\n",
            "Loss for epoch no :  9800  is  28.700794\n",
            "Loss for epoch no :  9900  is  28.681097\n",
            "Now testing the model in the test set\n",
            "The final loss is:  30.699953\n"
          ],
          "name": "stdout"
        },
        {
          "output_type": "display_data",
          "data": {
            "image/png": "[encoded data removed]",
            "text/plain": [
              "<matplotlib.figure.Figure at 0x7f64fc5e3a90>"
            ]
          },
          "metadata": {
            "tags": []
          }
        }
      ]
    }
  ]
}